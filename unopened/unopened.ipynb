{
 "cells": [
  {
   "cell_type": "code",
   "execution_count": 23,
   "outputs": [],
   "source": [
    "import pandas as pd\n",
    "csv_path = r\"https://docs.google.com/spreadsheets/d/1EvIFLGpsKvuOgdX6F9MYlGl9rCLjbKHPlE8srBDMwYo/edit?usp=sharing\"\n",
    "\n",
    "# Download file from Google Sheets\n",
    "url = csv_path.replace('/edit?usp=sharing', '/export?format=csv')\n",
    "df = pd.read_csv(url)\n"
   ],
   "metadata": {
    "collapsed": false,
    "ExecuteTime": {
     "end_time": "2023-06-10T09:17:21.704816221Z",
     "start_time": "2023-06-10T09:17:20.419969955Z"
    }
   }
  },
  {
   "cell_type": "markdown",
   "source": [
    "## Exp 1. \"미개봉\" 단어가 들어가 있다면, 해당 제품은 미개봉 제품일 것이다."
   ],
   "metadata": {
    "collapsed": false
   }
  },
  {
   "cell_type": "code",
   "execution_count": 2,
   "outputs": [
    {
     "name": "stdout",
     "output_type": "stream",
     "text": [
      "false_positive: 4\n",
      "false_negative: 1\n"
     ]
    },
    {
     "data": {
      "text/plain": "      id        date      writer        model  screen_size   chip   core  \\\n207  211  2023-04-17     tyui363  Macbook Air           13     M1    8,7   \n281  285  2023-04-21  stonebellk  Macbook Pro           16  M1Max  10,24   \n327  331  2023-04-24      낑깡 맛있엉     Mac Mini            0     M1    8,8   \n434  440  2023-05-02  bossmong79  Macbook Pro           14  M1Pro   8,14   \n\n      ram    ssd  apple_care_plus  unused      price price for statistics  \\\n207   8GB  256GB            False   False    850,000              850,000   \n281  64GB    1TB             True   False  3,200,000            3,100,000   \n327  16GB  256GB            False   False    700,000              700,000   \n434  16GB  512GB            False   False  1,000,000            1,000,000   \n\n    platform                                           url  \\\n207     중고나라  https://cafe.naver.com/joonggonara/984752629   \n281     중고나라  https://cafe.naver.com/joonggonara/985530100   \n327     중고나라  https://cafe.naver.com/joonggonara/985993261   \n434     중고나라  https://cafe.naver.com/joonggonara/987609935   \n\n                                                 title  \\\n207         맥북 에어 m1 2020 스페이스 그레이 256g 메모리 8g +가방 팝니다   \n281            맥북프로 M1 MAX 16인치 (64GB / 1TB) 실버를 팝니다﻿.   \n327                               M1 맥미니 CTO 16g 256gb   \n434  2021 맥북 프로 14인치 M1 pro 기본형 판매 (램16 / 512ssd / 스그)   \n\n                                               content  \n207  👆 중고나라에도 앱이 있다는 것을 아시나요? 위에 다운로드 링크를 통해 중고나라 앱...  \n281  1. 제품명/브랜드 : 맥북프로 M1 MAX 16인치 RAM : 64GB / SSD...  \n327  1. 제품명/브랜드: M1 맥미니 CTO 16g 256gb 2. 상품 상태(미개봉/...  \n434  👆 중고나라에도 앱이 있다는 것을 아시나요? 위에 다운로드 링크를 통해 중고나라 앱...  ",
      "text/html": "<div>\n<style scoped>\n    .dataframe tbody tr th:only-of-type {\n        vertical-align: middle;\n    }\n\n    .dataframe tbody tr th {\n        vertical-align: top;\n    }\n\n    .dataframe thead th {\n        text-align: right;\n    }\n</style>\n<table border=\"1\" class=\"dataframe\">\n  <thead>\n    <tr style=\"text-align: right;\">\n      <th></th>\n      <th>id</th>\n      <th>date</th>\n      <th>writer</th>\n      <th>model</th>\n      <th>screen_size</th>\n      <th>chip</th>\n      <th>core</th>\n      <th>ram</th>\n      <th>ssd</th>\n      <th>apple_care_plus</th>\n      <th>unused</th>\n      <th>price</th>\n      <th>price for statistics</th>\n      <th>platform</th>\n      <th>url</th>\n      <th>title</th>\n      <th>content</th>\n    </tr>\n  </thead>\n  <tbody>\n    <tr>\n      <th>207</th>\n      <td>211</td>\n      <td>2023-04-17</td>\n      <td>tyui363</td>\n      <td>Macbook Air</td>\n      <td>13</td>\n      <td>M1</td>\n      <td>8,7</td>\n      <td>8GB</td>\n      <td>256GB</td>\n      <td>False</td>\n      <td>False</td>\n      <td>850,000</td>\n      <td>850,000</td>\n      <td>중고나라</td>\n      <td>https://cafe.naver.com/joonggonara/984752629</td>\n      <td>맥북 에어 m1 2020 스페이스 그레이 256g 메모리 8g +가방 팝니다</td>\n      <td>👆 중고나라에도 앱이 있다는 것을 아시나요? 위에 다운로드 링크를 통해 중고나라 앱...</td>\n    </tr>\n    <tr>\n      <th>281</th>\n      <td>285</td>\n      <td>2023-04-21</td>\n      <td>stonebellk</td>\n      <td>Macbook Pro</td>\n      <td>16</td>\n      <td>M1Max</td>\n      <td>10,24</td>\n      <td>64GB</td>\n      <td>1TB</td>\n      <td>True</td>\n      <td>False</td>\n      <td>3,200,000</td>\n      <td>3,100,000</td>\n      <td>중고나라</td>\n      <td>https://cafe.naver.com/joonggonara/985530100</td>\n      <td>맥북프로 M1 MAX 16인치 (64GB / 1TB) 실버를 팝니다﻿.</td>\n      <td>1. 제품명/브랜드 : 맥북프로 M1 MAX 16인치 RAM : 64GB / SSD...</td>\n    </tr>\n    <tr>\n      <th>327</th>\n      <td>331</td>\n      <td>2023-04-24</td>\n      <td>낑깡 맛있엉</td>\n      <td>Mac Mini</td>\n      <td>0</td>\n      <td>M1</td>\n      <td>8,8</td>\n      <td>16GB</td>\n      <td>256GB</td>\n      <td>False</td>\n      <td>False</td>\n      <td>700,000</td>\n      <td>700,000</td>\n      <td>중고나라</td>\n      <td>https://cafe.naver.com/joonggonara/985993261</td>\n      <td>M1 맥미니 CTO 16g 256gb</td>\n      <td>1. 제품명/브랜드: M1 맥미니 CTO 16g 256gb 2. 상품 상태(미개봉/...</td>\n    </tr>\n    <tr>\n      <th>434</th>\n      <td>440</td>\n      <td>2023-05-02</td>\n      <td>bossmong79</td>\n      <td>Macbook Pro</td>\n      <td>14</td>\n      <td>M1Pro</td>\n      <td>8,14</td>\n      <td>16GB</td>\n      <td>512GB</td>\n      <td>False</td>\n      <td>False</td>\n      <td>1,000,000</td>\n      <td>1,000,000</td>\n      <td>중고나라</td>\n      <td>https://cafe.naver.com/joonggonara/987609935</td>\n      <td>2021 맥북 프로 14인치 M1 pro 기본형 판매 (램16 / 512ssd / 스그)</td>\n      <td>👆 중고나라에도 앱이 있다는 것을 아시나요? 위에 다운로드 링크를 통해 중고나라 앱...</td>\n    </tr>\n  </tbody>\n</table>\n</div>"
     },
     "execution_count": 2,
     "metadata": {},
     "output_type": "execute_result"
    }
   ],
   "source": [
    "# 미개봉 단어를 포함하고 있지만, 미개봉 제품이 아닌 경우\n",
    "false_positive = df[(df['title'].str.contains('미개봉') | df['content'].str.contains('미개봉')) & (df['unused'] == False)]\n",
    "\n",
    "# 미개봉 단어를 포함하고 있지 않지만, 미개봉 제품인 경우\n",
    "false_negative = df[~(df['title'].str.contains('미개봉') | df['content'].str.contains('미개봉')) & (df['unused'] == True)]\n",
    "\n",
    "print(f\"false_positive: {len(false_positive)}\")\n",
    "print(f\"false_negative: {len(false_negative)}\")\n",
    "\n",
    "false_positive"
   ],
   "metadata": {
    "collapsed": false,
    "ExecuteTime": {
     "end_time": "2023-06-10T08:53:59.771414021Z",
     "start_time": "2023-06-10T08:53:59.738091987Z"
    }
   }
  },
  {
   "cell_type": "markdown",
   "source": [
    "  - 4건의 false_positive가 발견되었지만, 이전 자동화 거치기 전 데이터를 포함한다면 더 많은 false_positive가 발견될 것이다.\n",
    "  - 1건의 false_negative가 발견되었는데, \"미개봉\" 대신 \"새상품\"이라는 단어가 들어가 있었다."
   ],
   "metadata": {
    "collapsed": false
   }
  },
  {
   "cell_type": "markdown",
   "source": [
    "## Exp 1.1 \"새상품\" 단어가 들어가 있다면, 해당 제품은 미개봉 제품일 것이다."
   ],
   "metadata": {
    "collapsed": false
   }
  },
  {
   "cell_type": "code",
   "execution_count": 3,
   "outputs": [
    {
     "name": "stdout",
     "output_type": "stream",
     "text": [
      "false_positive: 30\n",
      "false_negative: 0\n"
     ]
    },
    {
     "data": {
      "text/plain": "      id        date        writer        model  screen_size   chip   core  \\\n11    12  2023-03-31     misoa1324  Macbook Pro           14  M1Max  10,32   \n24    25  2023-04-02       iris_03  Macbook Pro           13     M2   8,10   \n25    26  2023-04-02     toping125     Mac Mini            0     M1    8,8   \n42    43  2023-04-03    wldnjs3035  Macbook Air           13     M1    8,7   \n69    70  2023-04-05       dlghkd1  Macbook Pro           13     M2   8,10   \n103  104  2023-04-07      hwasuguk  Macbook Air           13     M1    8,7   \n107  108  2023-04-07  hyunsoo12123  Macbook Pro           16  M1Pro  10,16   \n121  122  2023-04-08       feiwang     Mac Mini            0     M2   8,10   \n207  211  2023-04-17       tyui363  Macbook Air           13     M1    8,7   \n250  254  2023-04-20         cist7  Macbook Pro           16  M1Pro  10,16   \n274  278  2023-04-21    kangnang17  Macbook Pro           14  M2Pro  10,16   \n281  285  2023-04-21    stonebellk  Macbook Pro           16  M1Max  10,24   \n305  309  2023-04-23     shinjh789  Macbook Pro           16  M1Pro  10,16   \n306  310  2023-04-23     173279698  Macbook Pro           16  M1Pro  10,16   \n320  324  2023-04-24        1228mv  Macbook Pro           14  M1Pro   8,14   \n327  331  2023-04-24        낑깡 맛있엉     Mac Mini            0     M1    8,8   \n341  345  2023-04-25         cist7  Macbook Pro           16  M1Pro  10,16   \n357  361  2023-04-26    heesung908  Macbook Air           13     M2   8,10   \n406  411  2023-04-29       k1117sh  Macbook Pro           14  M1Pro   8,14   \n424  430  2023-05-01   hyunjae0124  Macbook Pro           14  M2Pro  10,16   \n434  440  2023-05-02    bossmong79  Macbook Pro           14  M1Pro   8,14   \n505  511  2023-05-08      idcardss  Macbook Pro           16  M2Max  12,38   \n527  533  2023-05-11     gjwns0958  Macbook Pro           14  M2Pro  10,16   \n531  537  2023-05-12       envy445  Macbook Air           13     M2   8,10   \n546  552  2023-05-12     okane3764  Macbook Pro           16  M1Pro  10,16   \n559  565  2023-05-13    kangnang17  Macbook Pro           13     M2   8,10   \n620  626  2023-05-17     toping125  Macbook Pro           16  M1Pro  10,16   \n746  753  2023-05-24       아리엘0201  Macbook Air           13     M2    8,8   \n784  792  2023-05-25           리히링  Macbook Pro           16  M1Pro  10,16   \n819  828  2023-05-27      dldlsgkr  Macbook Pro           13  M2Pro   8,10   \n\n      ram    ssd  apple_care_plus  unused      price price for statistics  \\\n11   16GB  512GB             True   False  3,600,000            3,500,000   \n24   16GB  256GB            False   False    132,000              132,000   \n25    8GB  256GB            False   False    530,000              530,000   \n42    8GB  256GB            False   False  1,000,000            1,000,000   \n69    8GB  256GB            False   False  1,450,000            1,450,000   \n103   8GB  256GB             True   False    780,000              680,000   \n107  16GB  512GB            False   False  2,100,000            2,100,000   \n121   8GB  512GB            False   False    890,000              890,000   \n207   8GB  256GB            False   False    850,000              850,000   \n250  16GB  512GB            False   False  2,200,000            2,200,000   \n274  16GB  512GB            False   False  2,300,000            2,300,000   \n281  64GB    1TB             True   False  3,200,000            3,100,000   \n305  16GB  512GB            False   False  2,280,000            2,280,000   \n306  16GB    1TB            False   False  2,400,000            2,400,000   \n320  16GB  512GB            False   False  1,900,000            1,900,000   \n327  16GB  256GB            False   False    700,000              700,000   \n341  16GB    1TB            False   False  2,150,000            2,150,000   \n357  24GB  512GB            False   False  1,900,000            1,900,000   \n406  16GB  512GB            False   False  1,800,000            1,800,000   \n424  16GB  512GB            False   False  2,050,000            2,050,000   \n434  16GB  512GB            False   False  1,000,000            1,000,000   \n505  32GB    1TB            False   False  3,400,000            3,400,000   \n527  16GB  512GB            False   False  2,150,000            2,150,000   \n531   8GB  256GB            False   False  1,100,000            1,100,000   \n546  16GB    1TB            False   False  2,100,000            2,100,000   \n559   8GB  512GB            False   False  1,550,000            1,550,000   \n620  16GB  512GB            False   False  1,830,000            1,830,000   \n746   8GB  512GB            False   False  1,100,000            1,100,000   \n784  16GB    1TB            False   False  2,100,000            2,100,000   \n819  16GB  256GB            False   False  1,450,000            1,450,000   \n\n    platform                                           url  \\\n11      중고나라  https://cafe.naver.com/joonggonara/981391080   \n24      중고나라  https://cafe.naver.com/joonggonara/981728879   \n25      중고나라  https://cafe.naver.com/joonggonara/981792823   \n42      중고나라  https://cafe.naver.com/joonggonara/981873053   \n69      중고나라  https://cafe.naver.com/joonggonara/982396811   \n103     중고나라  https://cafe.naver.com/joonggonara/982767331   \n107     중고나라  https://cafe.naver.com/joonggonara/982750810   \n121     중고나라  https://cafe.naver.com/joonggonara/983030149   \n207     중고나라  https://cafe.naver.com/joonggonara/984752629   \n250     중고나라  https://cafe.naver.com/joonggonara/985344780   \n274     중고나라  https://cafe.naver.com/joonggonara/985535443   \n281     중고나라  https://cafe.naver.com/joonggonara/985530100   \n305     중고나라  https://cafe.naver.com/joonggonara/985878484   \n306     중고나라  https://cafe.naver.com/joonggonara/985969782   \n320     중고나라  https://cafe.naver.com/joonggonara/986094235   \n327     중고나라  https://cafe.naver.com/joonggonara/985993261   \n341     중고나라  https://cafe.naver.com/joonggonara/986229022   \n357     중고나라  https://cafe.naver.com/joonggonara/986485226   \n406     중고나라  https://cafe.naver.com/joonggonara/987063903   \n424     중고나라  https://cafe.naver.com/joonggonara/987501046   \n434     중고나라  https://cafe.naver.com/joonggonara/987609935   \n505     중고나라  https://cafe.naver.com/joonggonara/988787433   \n527     중고나라  https://cafe.naver.com/joonggonara/989367245   \n531     중고나라  https://cafe.naver.com/joonggonara/989532205   \n546     중고나라  https://cafe.naver.com/joonggonara/989660099   \n559     중고나라  https://cafe.naver.com/joonggonara/989767611   \n620     중고나라  https://cafe.naver.com/joonggonara/990443176   \n746     중고나라  https://cafe.naver.com/joonggonara/991904351   \n784     중고나라  https://cafe.naver.com/joonggonara/992034036   \n819     중고나라  https://cafe.naver.com/joonggonara/992465075   \n\n                                                 title  \\\n11   애플 M1 max 맥북 프로 14인치 32코어 GPU 램 64기가 CTO 판매 또는...   \n24   [판매] 맥북프로 22년 13인치 M2, 메모리 16기가, SSD 256기가 거의 ...   \n25                                  급처)) 맥미니M1 기본형 풀박스   \n42               맥북에어m1 / 8gb / 256gb 거의새상품 풀박스 (상태s급)   \n69                        맥북프로13 m2 실버 256gb 8gb새상품팝니다   \n103                     (S급)맥북에어 m1 스페이스그레이 (8g/256gb)   \n107             맥북프로 16인치 mk183kh/a M1 Pro 16GB, 512GB   \n121                            맥미니 M2 8코어 10코어 512G 8G   \n207         맥북 에어 m1 2020 스페이스 그레이 256g 메모리 8g +가방 팝니다   \n250                   맥북프로 16인치 m1pro 16기가 스페이스그레이 팝니다   \n274             (단순개봉)23년형 맥북프로14 M2 Pro //16GB//512GB   \n281            맥북프로 M1 MAX 16인치 (64GB / 1TB) 실버를 팝니다﻿.   \n305                    SS급/걍새거) 맥북 m1 프로 16인치 16g/512g   \n306  맥북 프로 m1 16인치 21년형 실버. 16m 메모리. 1테라 하드. 실사용 10...   \n320                        2021 맥북 프로 m1 14 실버 새상품급 판매   \n327                               M1 맥미니 CTO 16g 256gb   \n341  -- 장사꾼 아닌 일반매물 -- 맥북프로 16인치 m1pro 16기가 스페이스그레이...   \n357                        맥북에어 m2 실버, 512gb, 24gb ram   \n406                            맥북 프로 14 m1 실버 기본모델 팝니다   \n424                                맥북 프로 14인치 m2 (기본형)   \n434  2021 맥북 프로 14인치 M1 pro 기본형 판매 (램16 / 512ssd / 스그)   \n505                맥북 프로 16인치 m2 max 38gpu 1tb 32g팝니다.   \n527                  애플 맥북 프로 M2 PRO 14인치 기본형 거의 새거 판매   \n531                      M2맥북에어 스그 영문자판 기본형 새제품급 급처합니다   \n546                   2021 M1 맥북프로 16인치 실버 1TB (거의새상품)   \n559                      맥북프로M2 13형 10코어 8gb/512gb 새상품   \n620                          맥북 프로m1pro 16인치 2021 새상품급   \n746  맥북에어 m2 2022 13인치. 8GB+SSD 512 . 사이클수 6 . 성능10...   \n784  M1 맥북프로 16인치 스페이스그레이 16g 1tb 새상품 컨디션 바로 쿨거래시 가격조율   \n819                  (미사용, 단순개봉) MacBook Pro13_맥북프로 13   \n\n                                               content  \n11   애플 맥북프로 14인치 M1 MAX CPU 10코어 GPU 32코어 CTO 풀옵 스...  \n24   안녕하세요... 박스 개봉하고 os 설치하고 사용을 안한 CPU가 M2모델이 적용된...  \n25   3월30일에 서면 프리스비에서 디피 상품 할인해서 구매해서 가져왔는데 그냥 아이맥으...  \n42   21년 3월 구매 기계를 잘 만질줄 몰라서 집에서만 사용했고, 10분정도 몇번사용하...  \n69                                    연락주세요 실사가능 안양직거래  \n103  *맥북에어 m1 스페이스그레이 S급 *8g / 256gb 기본모델 *내외관 새상품에...  \n107  맥북프로 16인치 mk183kh/a M1 Pro 16GB, 512GB 팝니다. M1...  \n121  맥미니 M2 8코어 10코어 512G 8G 팝니다. 3월 예약 구매 후 1주 정도 ...  \n207  👆 중고나라에도 앱이 있다는 것을 아시나요? 위에 다운로드 링크를 통해 중고나라 앱...  \n250  안녕하세요 작년 2022년 2월 320만원에 새상품으로 구입하였습니다.(애플스토어 ...  \n274  색상 실버입니다 단순개봉 풀박 (새상품 그대로 보관중) 윈도우 노트북이 필요해서 급...  \n281  1. 제품명/브랜드 : 맥북프로 M1 MAX 16인치 RAM : 64GB / SSD...  \n305  SS급/걍새거) 맥북 m1 프로 16인치 16g/512g 맥북 m1 프로 16인치 ...  \n306  영상편집 하려고 구매했다가 거의 사용하지 않아 판매합니다. 싸이클 7 배터리 100...  \n320  가격 내림 제발 글 끝까지 읽고 톡 주세요 ㅠㅠ... ❗️직거래 지역 아래에 써뒀어...  \n327  1. 제품명/브랜드: M1 맥미니 CTO 16g 256gb 2. 상품 상태(미개봉/...  \n341  안녕하세요 작년 2022년 2월 320만원에 새상품으로 구입하였습니다.(애플스토어 ...  \n357  사실상 거의 사용 안한 맥북에어 m2, 실버/512gb/24gb ram 풀박스 판매...  \n406  모델 : 맥북 프로 14 m1 기본형 색상 : 실버 구입날짜 : 23/04/13 사...  \n424  맥북 프로 14인치 m2 기본형 제품입니다. 배터리 사이클 수 2회, 기스 흠집 없...  \n434  👆 중고나라에도 앱이 있다는 것을 아시나요? 위에 다운로드 링크를 통해 중고나라 앱...  \n505  2차 구매자구 거의 새상품급 사서 사무실에서 클램쉘로만 썼습니다 새상품급이라 딱히 ...  \n527  • Apple 맥북 프로 14 스페이스그레이 • M2 Pro 10코어 • 512GB...  \n531  👆 중고나라에도 앱이 있다는 것을 아시나요? 위에 다운로드 링크를 통해 중고나라 앱...  \n546  2021 맥북프로 16인치 실버 1TB (거의새상품) 판매합니다. 구매일자는 202...  \n559  새상품 스페이스그레이 색상 입니다 빠르게 판매해요!! 직거래 경남 양산 택배거래 우...  \n620  크림에서 작년11월28일에 받고 한달정도 사용후 보관만 하고 있던 상품입니다 구매내...  \n746  맥북 에어 (M2. 2022) 판매합니다. macOS 12.5 구입일 : 2023년...  \n784   하도 약속 직전에 펑크하는분이 많아서 빠른 쿨거래시 가격조율 가능합니다. !!! ...  \n819   1. 맥북프로 13인치-실버 1) 새제품, 미사용(단순개봉) 2) 사양: M2, ...  ",
      "text/html": "<div>\n<style scoped>\n    .dataframe tbody tr th:only-of-type {\n        vertical-align: middle;\n    }\n\n    .dataframe tbody tr th {\n        vertical-align: top;\n    }\n\n    .dataframe thead th {\n        text-align: right;\n    }\n</style>\n<table border=\"1\" class=\"dataframe\">\n  <thead>\n    <tr style=\"text-align: right;\">\n      <th></th>\n      <th>id</th>\n      <th>date</th>\n      <th>writer</th>\n      <th>model</th>\n      <th>screen_size</th>\n      <th>chip</th>\n      <th>core</th>\n      <th>ram</th>\n      <th>ssd</th>\n      <th>apple_care_plus</th>\n      <th>unused</th>\n      <th>price</th>\n      <th>price for statistics</th>\n      <th>platform</th>\n      <th>url</th>\n      <th>title</th>\n      <th>content</th>\n    </tr>\n  </thead>\n  <tbody>\n    <tr>\n      <th>11</th>\n      <td>12</td>\n      <td>2023-03-31</td>\n      <td>misoa1324</td>\n      <td>Macbook Pro</td>\n      <td>14</td>\n      <td>M1Max</td>\n      <td>10,32</td>\n      <td>16GB</td>\n      <td>512GB</td>\n      <td>True</td>\n      <td>False</td>\n      <td>3,600,000</td>\n      <td>3,500,000</td>\n      <td>중고나라</td>\n      <td>https://cafe.naver.com/joonggonara/981391080</td>\n      <td>애플 M1 max 맥북 프로 14인치 32코어 GPU 램 64기가 CTO 판매 또는...</td>\n      <td>애플 맥북프로 14인치 M1 MAX CPU 10코어 GPU 32코어 CTO 풀옵 스...</td>\n    </tr>\n    <tr>\n      <th>24</th>\n      <td>25</td>\n      <td>2023-04-02</td>\n      <td>iris_03</td>\n      <td>Macbook Pro</td>\n      <td>13</td>\n      <td>M2</td>\n      <td>8,10</td>\n      <td>16GB</td>\n      <td>256GB</td>\n      <td>False</td>\n      <td>False</td>\n      <td>132,000</td>\n      <td>132,000</td>\n      <td>중고나라</td>\n      <td>https://cafe.naver.com/joonggonara/981728879</td>\n      <td>[판매] 맥북프로 22년 13인치 M2, 메모리 16기가, SSD 256기가 거의 ...</td>\n      <td>안녕하세요... 박스 개봉하고 os 설치하고 사용을 안한 CPU가 M2모델이 적용된...</td>\n    </tr>\n    <tr>\n      <th>25</th>\n      <td>26</td>\n      <td>2023-04-02</td>\n      <td>toping125</td>\n      <td>Mac Mini</td>\n      <td>0</td>\n      <td>M1</td>\n      <td>8,8</td>\n      <td>8GB</td>\n      <td>256GB</td>\n      <td>False</td>\n      <td>False</td>\n      <td>530,000</td>\n      <td>530,000</td>\n      <td>중고나라</td>\n      <td>https://cafe.naver.com/joonggonara/981792823</td>\n      <td>급처)) 맥미니M1 기본형 풀박스</td>\n      <td>3월30일에 서면 프리스비에서 디피 상품 할인해서 구매해서 가져왔는데 그냥 아이맥으...</td>\n    </tr>\n    <tr>\n      <th>42</th>\n      <td>43</td>\n      <td>2023-04-03</td>\n      <td>wldnjs3035</td>\n      <td>Macbook Air</td>\n      <td>13</td>\n      <td>M1</td>\n      <td>8,7</td>\n      <td>8GB</td>\n      <td>256GB</td>\n      <td>False</td>\n      <td>False</td>\n      <td>1,000,000</td>\n      <td>1,000,000</td>\n      <td>중고나라</td>\n      <td>https://cafe.naver.com/joonggonara/981873053</td>\n      <td>맥북에어m1 / 8gb / 256gb 거의새상품 풀박스 (상태s급)</td>\n      <td>21년 3월 구매 기계를 잘 만질줄 몰라서 집에서만 사용했고, 10분정도 몇번사용하...</td>\n    </tr>\n    <tr>\n      <th>69</th>\n      <td>70</td>\n      <td>2023-04-05</td>\n      <td>dlghkd1</td>\n      <td>Macbook Pro</td>\n      <td>13</td>\n      <td>M2</td>\n      <td>8,10</td>\n      <td>8GB</td>\n      <td>256GB</td>\n      <td>False</td>\n      <td>False</td>\n      <td>1,450,000</td>\n      <td>1,450,000</td>\n      <td>중고나라</td>\n      <td>https://cafe.naver.com/joonggonara/982396811</td>\n      <td>맥북프로13 m2 실버 256gb 8gb새상품팝니다</td>\n      <td>연락주세요 실사가능 안양직거래</td>\n    </tr>\n    <tr>\n      <th>103</th>\n      <td>104</td>\n      <td>2023-04-07</td>\n      <td>hwasuguk</td>\n      <td>Macbook Air</td>\n      <td>13</td>\n      <td>M1</td>\n      <td>8,7</td>\n      <td>8GB</td>\n      <td>256GB</td>\n      <td>True</td>\n      <td>False</td>\n      <td>780,000</td>\n      <td>680,000</td>\n      <td>중고나라</td>\n      <td>https://cafe.naver.com/joonggonara/982767331</td>\n      <td>(S급)맥북에어 m1 스페이스그레이 (8g/256gb)</td>\n      <td>*맥북에어 m1 스페이스그레이 S급 *8g / 256gb 기본모델 *내외관 새상품에...</td>\n    </tr>\n    <tr>\n      <th>107</th>\n      <td>108</td>\n      <td>2023-04-07</td>\n      <td>hyunsoo12123</td>\n      <td>Macbook Pro</td>\n      <td>16</td>\n      <td>M1Pro</td>\n      <td>10,16</td>\n      <td>16GB</td>\n      <td>512GB</td>\n      <td>False</td>\n      <td>False</td>\n      <td>2,100,000</td>\n      <td>2,100,000</td>\n      <td>중고나라</td>\n      <td>https://cafe.naver.com/joonggonara/982750810</td>\n      <td>맥북프로 16인치 mk183kh/a M1 Pro 16GB, 512GB</td>\n      <td>맥북프로 16인치 mk183kh/a M1 Pro 16GB, 512GB 팝니다. M1...</td>\n    </tr>\n    <tr>\n      <th>121</th>\n      <td>122</td>\n      <td>2023-04-08</td>\n      <td>feiwang</td>\n      <td>Mac Mini</td>\n      <td>0</td>\n      <td>M2</td>\n      <td>8,10</td>\n      <td>8GB</td>\n      <td>512GB</td>\n      <td>False</td>\n      <td>False</td>\n      <td>890,000</td>\n      <td>890,000</td>\n      <td>중고나라</td>\n      <td>https://cafe.naver.com/joonggonara/983030149</td>\n      <td>맥미니 M2 8코어 10코어 512G 8G</td>\n      <td>맥미니 M2 8코어 10코어 512G 8G 팝니다. 3월 예약 구매 후 1주 정도 ...</td>\n    </tr>\n    <tr>\n      <th>207</th>\n      <td>211</td>\n      <td>2023-04-17</td>\n      <td>tyui363</td>\n      <td>Macbook Air</td>\n      <td>13</td>\n      <td>M1</td>\n      <td>8,7</td>\n      <td>8GB</td>\n      <td>256GB</td>\n      <td>False</td>\n      <td>False</td>\n      <td>850,000</td>\n      <td>850,000</td>\n      <td>중고나라</td>\n      <td>https://cafe.naver.com/joonggonara/984752629</td>\n      <td>맥북 에어 m1 2020 스페이스 그레이 256g 메모리 8g +가방 팝니다</td>\n      <td>👆 중고나라에도 앱이 있다는 것을 아시나요? 위에 다운로드 링크를 통해 중고나라 앱...</td>\n    </tr>\n    <tr>\n      <th>250</th>\n      <td>254</td>\n      <td>2023-04-20</td>\n      <td>cist7</td>\n      <td>Macbook Pro</td>\n      <td>16</td>\n      <td>M1Pro</td>\n      <td>10,16</td>\n      <td>16GB</td>\n      <td>512GB</td>\n      <td>False</td>\n      <td>False</td>\n      <td>2,200,000</td>\n      <td>2,200,000</td>\n      <td>중고나라</td>\n      <td>https://cafe.naver.com/joonggonara/985344780</td>\n      <td>맥북프로 16인치 m1pro 16기가 스페이스그레이 팝니다</td>\n      <td>안녕하세요 작년 2022년 2월 320만원에 새상품으로 구입하였습니다.(애플스토어 ...</td>\n    </tr>\n    <tr>\n      <th>274</th>\n      <td>278</td>\n      <td>2023-04-21</td>\n      <td>kangnang17</td>\n      <td>Macbook Pro</td>\n      <td>14</td>\n      <td>M2Pro</td>\n      <td>10,16</td>\n      <td>16GB</td>\n      <td>512GB</td>\n      <td>False</td>\n      <td>False</td>\n      <td>2,300,000</td>\n      <td>2,300,000</td>\n      <td>중고나라</td>\n      <td>https://cafe.naver.com/joonggonara/985535443</td>\n      <td>(단순개봉)23년형 맥북프로14 M2 Pro //16GB//512GB</td>\n      <td>색상 실버입니다 단순개봉 풀박 (새상품 그대로 보관중) 윈도우 노트북이 필요해서 급...</td>\n    </tr>\n    <tr>\n      <th>281</th>\n      <td>285</td>\n      <td>2023-04-21</td>\n      <td>stonebellk</td>\n      <td>Macbook Pro</td>\n      <td>16</td>\n      <td>M1Max</td>\n      <td>10,24</td>\n      <td>64GB</td>\n      <td>1TB</td>\n      <td>True</td>\n      <td>False</td>\n      <td>3,200,000</td>\n      <td>3,100,000</td>\n      <td>중고나라</td>\n      <td>https://cafe.naver.com/joonggonara/985530100</td>\n      <td>맥북프로 M1 MAX 16인치 (64GB / 1TB) 실버를 팝니다﻿.</td>\n      <td>1. 제품명/브랜드 : 맥북프로 M1 MAX 16인치 RAM : 64GB / SSD...</td>\n    </tr>\n    <tr>\n      <th>305</th>\n      <td>309</td>\n      <td>2023-04-23</td>\n      <td>shinjh789</td>\n      <td>Macbook Pro</td>\n      <td>16</td>\n      <td>M1Pro</td>\n      <td>10,16</td>\n      <td>16GB</td>\n      <td>512GB</td>\n      <td>False</td>\n      <td>False</td>\n      <td>2,280,000</td>\n      <td>2,280,000</td>\n      <td>중고나라</td>\n      <td>https://cafe.naver.com/joonggonara/985878484</td>\n      <td>SS급/걍새거) 맥북 m1 프로 16인치 16g/512g</td>\n      <td>SS급/걍새거) 맥북 m1 프로 16인치 16g/512g 맥북 m1 프로 16인치 ...</td>\n    </tr>\n    <tr>\n      <th>306</th>\n      <td>310</td>\n      <td>2023-04-23</td>\n      <td>173279698</td>\n      <td>Macbook Pro</td>\n      <td>16</td>\n      <td>M1Pro</td>\n      <td>10,16</td>\n      <td>16GB</td>\n      <td>1TB</td>\n      <td>False</td>\n      <td>False</td>\n      <td>2,400,000</td>\n      <td>2,400,000</td>\n      <td>중고나라</td>\n      <td>https://cafe.naver.com/joonggonara/985969782</td>\n      <td>맥북 프로 m1 16인치 21년형 실버. 16m 메모리. 1테라 하드. 실사용 10...</td>\n      <td>영상편집 하려고 구매했다가 거의 사용하지 않아 판매합니다. 싸이클 7 배터리 100...</td>\n    </tr>\n    <tr>\n      <th>320</th>\n      <td>324</td>\n      <td>2023-04-24</td>\n      <td>1228mv</td>\n      <td>Macbook Pro</td>\n      <td>14</td>\n      <td>M1Pro</td>\n      <td>8,14</td>\n      <td>16GB</td>\n      <td>512GB</td>\n      <td>False</td>\n      <td>False</td>\n      <td>1,900,000</td>\n      <td>1,900,000</td>\n      <td>중고나라</td>\n      <td>https://cafe.naver.com/joonggonara/986094235</td>\n      <td>2021 맥북 프로 m1 14 실버 새상품급 판매</td>\n      <td>가격 내림 제발 글 끝까지 읽고 톡 주세요 ㅠㅠ... ❗️직거래 지역 아래에 써뒀어...</td>\n    </tr>\n    <tr>\n      <th>327</th>\n      <td>331</td>\n      <td>2023-04-24</td>\n      <td>낑깡 맛있엉</td>\n      <td>Mac Mini</td>\n      <td>0</td>\n      <td>M1</td>\n      <td>8,8</td>\n      <td>16GB</td>\n      <td>256GB</td>\n      <td>False</td>\n      <td>False</td>\n      <td>700,000</td>\n      <td>700,000</td>\n      <td>중고나라</td>\n      <td>https://cafe.naver.com/joonggonara/985993261</td>\n      <td>M1 맥미니 CTO 16g 256gb</td>\n      <td>1. 제품명/브랜드: M1 맥미니 CTO 16g 256gb 2. 상품 상태(미개봉/...</td>\n    </tr>\n    <tr>\n      <th>341</th>\n      <td>345</td>\n      <td>2023-04-25</td>\n      <td>cist7</td>\n      <td>Macbook Pro</td>\n      <td>16</td>\n      <td>M1Pro</td>\n      <td>10,16</td>\n      <td>16GB</td>\n      <td>1TB</td>\n      <td>False</td>\n      <td>False</td>\n      <td>2,150,000</td>\n      <td>2,150,000</td>\n      <td>중고나라</td>\n      <td>https://cafe.naver.com/joonggonara/986229022</td>\n      <td>-- 장사꾼 아닌 일반매물 -- 맥북프로 16인치 m1pro 16기가 스페이스그레이...</td>\n      <td>안녕하세요 작년 2022년 2월 320만원에 새상품으로 구입하였습니다.(애플스토어 ...</td>\n    </tr>\n    <tr>\n      <th>357</th>\n      <td>361</td>\n      <td>2023-04-26</td>\n      <td>heesung908</td>\n      <td>Macbook Air</td>\n      <td>13</td>\n      <td>M2</td>\n      <td>8,10</td>\n      <td>24GB</td>\n      <td>512GB</td>\n      <td>False</td>\n      <td>False</td>\n      <td>1,900,000</td>\n      <td>1,900,000</td>\n      <td>중고나라</td>\n      <td>https://cafe.naver.com/joonggonara/986485226</td>\n      <td>맥북에어 m2 실버, 512gb, 24gb ram</td>\n      <td>사실상 거의 사용 안한 맥북에어 m2, 실버/512gb/24gb ram 풀박스 판매...</td>\n    </tr>\n    <tr>\n      <th>406</th>\n      <td>411</td>\n      <td>2023-04-29</td>\n      <td>k1117sh</td>\n      <td>Macbook Pro</td>\n      <td>14</td>\n      <td>M1Pro</td>\n      <td>8,14</td>\n      <td>16GB</td>\n      <td>512GB</td>\n      <td>False</td>\n      <td>False</td>\n      <td>1,800,000</td>\n      <td>1,800,000</td>\n      <td>중고나라</td>\n      <td>https://cafe.naver.com/joonggonara/987063903</td>\n      <td>맥북 프로 14 m1 실버 기본모델 팝니다</td>\n      <td>모델 : 맥북 프로 14 m1 기본형 색상 : 실버 구입날짜 : 23/04/13 사...</td>\n    </tr>\n    <tr>\n      <th>424</th>\n      <td>430</td>\n      <td>2023-05-01</td>\n      <td>hyunjae0124</td>\n      <td>Macbook Pro</td>\n      <td>14</td>\n      <td>M2Pro</td>\n      <td>10,16</td>\n      <td>16GB</td>\n      <td>512GB</td>\n      <td>False</td>\n      <td>False</td>\n      <td>2,050,000</td>\n      <td>2,050,000</td>\n      <td>중고나라</td>\n      <td>https://cafe.naver.com/joonggonara/987501046</td>\n      <td>맥북 프로 14인치 m2 (기본형)</td>\n      <td>맥북 프로 14인치 m2 기본형 제품입니다. 배터리 사이클 수 2회, 기스 흠집 없...</td>\n    </tr>\n    <tr>\n      <th>434</th>\n      <td>440</td>\n      <td>2023-05-02</td>\n      <td>bossmong79</td>\n      <td>Macbook Pro</td>\n      <td>14</td>\n      <td>M1Pro</td>\n      <td>8,14</td>\n      <td>16GB</td>\n      <td>512GB</td>\n      <td>False</td>\n      <td>False</td>\n      <td>1,000,000</td>\n      <td>1,000,000</td>\n      <td>중고나라</td>\n      <td>https://cafe.naver.com/joonggonara/987609935</td>\n      <td>2021 맥북 프로 14인치 M1 pro 기본형 판매 (램16 / 512ssd / 스그)</td>\n      <td>👆 중고나라에도 앱이 있다는 것을 아시나요? 위에 다운로드 링크를 통해 중고나라 앱...</td>\n    </tr>\n    <tr>\n      <th>505</th>\n      <td>511</td>\n      <td>2023-05-08</td>\n      <td>idcardss</td>\n      <td>Macbook Pro</td>\n      <td>16</td>\n      <td>M2Max</td>\n      <td>12,38</td>\n      <td>32GB</td>\n      <td>1TB</td>\n      <td>False</td>\n      <td>False</td>\n      <td>3,400,000</td>\n      <td>3,400,000</td>\n      <td>중고나라</td>\n      <td>https://cafe.naver.com/joonggonara/988787433</td>\n      <td>맥북 프로 16인치 m2 max 38gpu 1tb 32g팝니다.</td>\n      <td>2차 구매자구 거의 새상품급 사서 사무실에서 클램쉘로만 썼습니다 새상품급이라 딱히 ...</td>\n    </tr>\n    <tr>\n      <th>527</th>\n      <td>533</td>\n      <td>2023-05-11</td>\n      <td>gjwns0958</td>\n      <td>Macbook Pro</td>\n      <td>14</td>\n      <td>M2Pro</td>\n      <td>10,16</td>\n      <td>16GB</td>\n      <td>512GB</td>\n      <td>False</td>\n      <td>False</td>\n      <td>2,150,000</td>\n      <td>2,150,000</td>\n      <td>중고나라</td>\n      <td>https://cafe.naver.com/joonggonara/989367245</td>\n      <td>애플 맥북 프로 M2 PRO 14인치 기본형 거의 새거 판매</td>\n      <td>• Apple 맥북 프로 14 스페이스그레이 • M2 Pro 10코어 • 512GB...</td>\n    </tr>\n    <tr>\n      <th>531</th>\n      <td>537</td>\n      <td>2023-05-12</td>\n      <td>envy445</td>\n      <td>Macbook Air</td>\n      <td>13</td>\n      <td>M2</td>\n      <td>8,10</td>\n      <td>8GB</td>\n      <td>256GB</td>\n      <td>False</td>\n      <td>False</td>\n      <td>1,100,000</td>\n      <td>1,100,000</td>\n      <td>중고나라</td>\n      <td>https://cafe.naver.com/joonggonara/989532205</td>\n      <td>M2맥북에어 스그 영문자판 기본형 새제품급 급처합니다</td>\n      <td>👆 중고나라에도 앱이 있다는 것을 아시나요? 위에 다운로드 링크를 통해 중고나라 앱...</td>\n    </tr>\n    <tr>\n      <th>546</th>\n      <td>552</td>\n      <td>2023-05-12</td>\n      <td>okane3764</td>\n      <td>Macbook Pro</td>\n      <td>16</td>\n      <td>M1Pro</td>\n      <td>10,16</td>\n      <td>16GB</td>\n      <td>1TB</td>\n      <td>False</td>\n      <td>False</td>\n      <td>2,100,000</td>\n      <td>2,100,000</td>\n      <td>중고나라</td>\n      <td>https://cafe.naver.com/joonggonara/989660099</td>\n      <td>2021 M1 맥북프로 16인치 실버 1TB (거의새상품)</td>\n      <td>2021 맥북프로 16인치 실버 1TB (거의새상품) 판매합니다. 구매일자는 202...</td>\n    </tr>\n    <tr>\n      <th>559</th>\n      <td>565</td>\n      <td>2023-05-13</td>\n      <td>kangnang17</td>\n      <td>Macbook Pro</td>\n      <td>13</td>\n      <td>M2</td>\n      <td>8,10</td>\n      <td>8GB</td>\n      <td>512GB</td>\n      <td>False</td>\n      <td>False</td>\n      <td>1,550,000</td>\n      <td>1,550,000</td>\n      <td>중고나라</td>\n      <td>https://cafe.naver.com/joonggonara/989767611</td>\n      <td>맥북프로M2 13형 10코어 8gb/512gb 새상품</td>\n      <td>새상품 스페이스그레이 색상 입니다 빠르게 판매해요!! 직거래 경남 양산 택배거래 우...</td>\n    </tr>\n    <tr>\n      <th>620</th>\n      <td>626</td>\n      <td>2023-05-17</td>\n      <td>toping125</td>\n      <td>Macbook Pro</td>\n      <td>16</td>\n      <td>M1Pro</td>\n      <td>10,16</td>\n      <td>16GB</td>\n      <td>512GB</td>\n      <td>False</td>\n      <td>False</td>\n      <td>1,830,000</td>\n      <td>1,830,000</td>\n      <td>중고나라</td>\n      <td>https://cafe.naver.com/joonggonara/990443176</td>\n      <td>맥북 프로m1pro 16인치 2021 새상품급</td>\n      <td>크림에서 작년11월28일에 받고 한달정도 사용후 보관만 하고 있던 상품입니다 구매내...</td>\n    </tr>\n    <tr>\n      <th>746</th>\n      <td>753</td>\n      <td>2023-05-24</td>\n      <td>아리엘0201</td>\n      <td>Macbook Air</td>\n      <td>13</td>\n      <td>M2</td>\n      <td>8,8</td>\n      <td>8GB</td>\n      <td>512GB</td>\n      <td>False</td>\n      <td>False</td>\n      <td>1,100,000</td>\n      <td>1,100,000</td>\n      <td>중고나라</td>\n      <td>https://cafe.naver.com/joonggonara/991904351</td>\n      <td>맥북에어 m2 2022 13인치. 8GB+SSD 512 . 사이클수 6 . 성능10...</td>\n      <td>맥북 에어 (M2. 2022) 판매합니다. macOS 12.5 구입일 : 2023년...</td>\n    </tr>\n    <tr>\n      <th>784</th>\n      <td>792</td>\n      <td>2023-05-25</td>\n      <td>리히링</td>\n      <td>Macbook Pro</td>\n      <td>16</td>\n      <td>M1Pro</td>\n      <td>10,16</td>\n      <td>16GB</td>\n      <td>1TB</td>\n      <td>False</td>\n      <td>False</td>\n      <td>2,100,000</td>\n      <td>2,100,000</td>\n      <td>중고나라</td>\n      <td>https://cafe.naver.com/joonggonara/992034036</td>\n      <td>M1 맥북프로 16인치 스페이스그레이 16g 1tb 새상품 컨디션 바로 쿨거래시 가격조율</td>\n      <td>하도 약속 직전에 펑크하는분이 많아서 빠른 쿨거래시 가격조율 가능합니다. !!! ...</td>\n    </tr>\n    <tr>\n      <th>819</th>\n      <td>828</td>\n      <td>2023-05-27</td>\n      <td>dldlsgkr</td>\n      <td>Macbook Pro</td>\n      <td>13</td>\n      <td>M2Pro</td>\n      <td>8,10</td>\n      <td>16GB</td>\n      <td>256GB</td>\n      <td>False</td>\n      <td>False</td>\n      <td>1,450,000</td>\n      <td>1,450,000</td>\n      <td>중고나라</td>\n      <td>https://cafe.naver.com/joonggonara/992465075</td>\n      <td>(미사용, 단순개봉) MacBook Pro13_맥북프로 13</td>\n      <td>1. 맥북프로 13인치-실버 1) 새제품, 미사용(단순개봉) 2) 사양: M2, ...</td>\n    </tr>\n  </tbody>\n</table>\n</div>"
     },
     "execution_count": 3,
     "metadata": {},
     "output_type": "execute_result"
    }
   ],
   "source": [
    "# 새상품 단어를 포함하고 있지만, 미개봉 제품이 아닌 경우\n",
    "false_positive = df[(df['title'].str.contains('새상품') | df['title'].str.contains('미개봉') | df['content'].str.contains('새상품') |  df['content'].str.contains('미개봉'))  & (df['unused'] == False)]\n",
    "\n",
    "# 새상품, 미개봉 단어를 포함하고 있지 않지만, 미개봉 제품인 경우\n",
    "false_negative = df[~(df['title'].str.contains('새상품') | df['title'].str.contains('미개봉') | df['content'].str.contains('새상품') |  df['content'].str.contains('미개봉')) & (df['unused'] == True)]\n",
    "\n",
    "print(f\"false_positive: {len(false_positive)}\")\n",
    "print(f\"false_negative: {len(false_negative)}\")\n",
    "\n",
    "false_positive"
   ],
   "metadata": {
    "collapsed": false,
    "ExecuteTime": {
     "end_time": "2023-06-10T08:53:59.829853532Z",
     "start_time": "2023-06-10T08:53:59.792813664Z"
    }
   }
  },
  {
   "cell_type": "markdown",
   "source": [
    " - 26건의 false_positive가 발견되었지만, 이전 자동화 거치기 전 데이터를 포함한다면 더 많은 false_positive가 발견될 것이다.\n",
    " - 0건의 false_negative가 발견되었다. **즉, 미개봉 제품의 경우 \"새상품\" 혹은 \"미개봉\"이라는 단어가 들어가 있다.**"
   ],
   "metadata": {
    "collapsed": false
   }
  },
  {
   "cell_type": "markdown",
   "source": [
    "## Exp 2. \"미개봉\", \"새상품\" 단어가 들어가 있는 상품에 대해서 Prompt Engineering으로 미개봉 제품을 찾아보자."
   ],
   "metadata": {
    "collapsed": false
   }
  },
  {
   "cell_type": "code",
   "execution_count": 33,
   "outputs": [
    {
     "name": "stdout",
     "output_type": "stream",
     "text": [
      "Accuracy: 1.0\n"
     ]
    }
   ],
   "source": [
    "import os\n",
    "from langchain.chat_models import ChatOpenAI\n",
    "from langchain.llms import openai\n",
    "import re\n",
    "from langchain.chains import LLMChain\n",
    "from langchain.prompts import PromptTemplate\n",
    "\n",
    "llm = ChatOpenAI(temperature=0, openai_api_key= \"\", model_name=\"gpt-3.5-turbo\")\n",
    "test_prompt = PromptTemplate(\n",
    "    input_variables = [\"title\", \"content\"],\n",
    "    template= open(\"./prompts/Exp2-18.txt\", \"r\").read()\n",
    ")\n",
    "chain = LLMChain(llm = llm, prompt=test_prompt)\n",
    "\n",
    "def classify_unopened_product(title: str, content: str) -> str:\n",
    "    return chain.run(title=title, content=content)\n",
    "\n",
    "\n",
    "false_positive = df[(df['title'].str.contains('새상품') | df['title'].str.contains('미개봉') | df['content'].str.contains('새상품') |  df['content'].str.contains('미개봉'))  & (df['unused'] == False)]\n",
    "\n",
    "total = len(false_positive)\n",
    "correct = 0\n",
    "wrong = []\n",
    "for data in false_positive.to_dict(orient=\"records\"):\n",
    "    raw_predict : str = classify_unopened_product(title=data['title'], content=data['content']).upper()\n",
    "\n",
    "    # parse Only TRUE or FALSE in predict\n",
    "    try:\n",
    "        predict = re.findall(r'TRUE|FALSE|NONE', raw_predict)[0]\n",
    "    except:\n",
    "        predict = raw_predict\n",
    "\n",
    "    answer : str = str(data['unused']).upper()\n",
    "    if predict == answer:\n",
    "        correct += 1\n",
    "    else:\n",
    "        print(f\"Predict: {raw_predict}\\n\\n Answer: {answer}\")\n",
    "        wrong.append(data)\n",
    "\n",
    "print(f\"Accuracy: {correct/total}\")"
   ],
   "metadata": {
    "collapsed": false,
    "ExecuteTime": {
     "end_time": "2023-06-10T09:31:39.110088840Z",
     "start_time": "2023-06-10T09:31:22.419738735Z"
    }
   }
  },
  {
   "cell_type": "markdown",
   "source": [
    "## 결과\n",
    "- Exp2-1.txt : 0.13(GPT-3.5) / 0.93 (GPT-4)\n",
    "- Exp2-2.txt : 0.2(GPT-3.5) / 0.9 (GPT-4)\n",
    "- Exp2-3.txt : 0.066(GPT-3.5) / 0.9 (GPT-4)\n",
    "- Exp2-4.txt : 0.23(GPT-3.5) / 0.9 (GPT-4)\n",
    "- Exp2-5.txt : 0.33(GPT-3.5) / X\n",
    "- Exp2-6.txt : 0.1 (GPT-3.5) / X\n",
    "- Exp2-7.txt : 0.4 (GPT-3.5) / X\n",
    "- Exp2-8.txt : 0.33 (GPT-3.5) / X\n",
    "- Exp2-9.txt : 0.36 (GPT-3.5) / X\n",
    "- Exp2-10.txt : 0.5 (GPT-3.5) / X\n",
    "- Exp2-11.txt : 0.83 (GPT-3.5) / 0.96 (GPT-4)\n",
    "- Exp2-12.txt : 0.83 (GPT-3.5)\n",
    "- Exp2-13.txt : 0.83 (GPT-3.5)\n",
    "- Exp2-14.txt : 0.8 (GPT-3.5)\n",
    "- Exp2-15.txt : 0.73 (GPT-3.5)\n",
    "- Exp2-16.txt : 0.89 (GPT-3.5)\n",
    "- Exp2-17.txt : 0.96 (GPT-3.5)\n",
    "- Exp2-18.txt : 1 (GPT-3.5)"
   ],
   "metadata": {
    "collapsed": false
   }
  },
  {
   "cell_type": "code",
   "execution_count": 31,
   "outputs": [
    {
     "data": {
      "text/plain": "[{'id': 309,\n  'date': '2023-04-23',\n  'writer': 'shinjh789',\n  'model': 'Macbook Pro',\n  'screen_size': 16,\n  'chip': 'M1Pro',\n  'core': '10,16',\n  'ram': '16GB',\n  'ssd': '512GB',\n  'apple_care_plus': False,\n  'unused': False,\n  'price': '2,280,000',\n  'price for statistics': '2,280,000',\n  'platform': '중고나라',\n  'url': 'https://cafe.naver.com/joonggonara/985878484',\n  'title': 'SS급/걍새거) 맥북 m1 프로 16인치 16g/512g',\n  'content': 'SS급/걍새거) 맥북 m1 프로 16인치 16g/512g 맥북 m1 프로 16인치 16g Ram 512g ssd 입니다 색상은 실버입니다 22년 11월에 구매해서 그냥 방치해둔 걍 새제품입니다 케이블. 어댑터 새상품 배터리 사이클 10, 최대성능 당연히 100 기스 찍힘 전혀 없음 새상품 싸게 구매하신다고 보면 됩니다 직거래는 평일 죽전역 택배 가능 페이 안전거래 가능'}]"
     },
     "execution_count": 31,
     "metadata": {},
     "output_type": "execute_result"
    }
   ],
   "source": [
    "wrong"
   ],
   "metadata": {
    "collapsed": false,
    "ExecuteTime": {
     "end_time": "2023-06-10T09:29:06.711242631Z",
     "start_time": "2023-06-10T09:29:06.706770895Z"
    }
   }
  },
  {
   "cell_type": "code",
   "execution_count": 32,
   "outputs": [
    {
     "name": "stdout",
     "output_type": "stream",
     "text": [
      "Title: SS급/걍새거) 맥북 m1 프로 16인치 16g/512g\n",
      "\n",
      "Content: SS급/걍새거) 맥북 m1 프로 16인치 16g/512g 맥북 m1 프로 16인치 16g Ram 512g ssd 입니다 색상은 실버입니다 22년 11월에 구매해서 그냥 방치해둔 걍 새제품입니다 케이블. 어댑터 새상품 배터리 사이클 10, 최대성능 당연히 100 기스 찍힘 전혀 없음 새상품 싸게 구매하신다고 보면 됩니다 직거래는 평일 죽전역 택배 가능 페이 안전거래 가능\n",
      "\n",
      "Predict: Answer: TRUE\n",
      "\n",
      "The product is unopened because there are no clues in the post that indicate that it has been opened. The seller states that it is a new product that has been left unused since purchase, and there are no visible scratches or signs of use. Additionally, the battery cycle is only 10, indicating that it has not been used extensively.\n",
      "\n",
      "\n"
     ]
    }
   ],
   "source": [
    "# 오탑노트\n",
    "test_prompt = PromptTemplate(\n",
    "    input_variables = [\"title\", \"content\"],\n",
    "    template= open(\"./prompts/Exp2-17.txt\", \"r\").read() + \"\\n\\n And tell me why the product is unopened.\"\n",
    ")\n",
    "chain = LLMChain(llm = llm, prompt=test_prompt)\n",
    "\n",
    "\n",
    "for data in wrong:\n",
    "    res = classify_unopened_product(title=data['title'], content=data['content'])\n",
    "    print(f\"Title: {data['title']}\\n\\nContent: {data['content']}\\n\\nPredict: {res}\\n\\n\")"
   ],
   "metadata": {
    "collapsed": false,
    "ExecuteTime": {
     "end_time": "2023-06-10T09:29:13.587639721Z",
     "start_time": "2023-06-10T09:29:10.090463495Z"
    }
   }
  },
  {
   "cell_type": "code",
   "execution_count": null,
   "outputs": [],
   "source": [],
   "metadata": {
    "collapsed": false
   }
  }
 ],
 "metadata": {
  "kernelspec": {
   "display_name": "Python 3",
   "language": "python",
   "name": "python3"
  },
  "language_info": {
   "codemirror_mode": {
    "name": "ipython",
    "version": 2
   },
   "file_extension": ".py",
   "mimetype": "text/x-python",
   "name": "python",
   "nbconvert_exporter": "python",
   "pygments_lexer": "ipython2",
   "version": "2.7.6"
  }
 },
 "nbformat": 4,
 "nbformat_minor": 0
}
