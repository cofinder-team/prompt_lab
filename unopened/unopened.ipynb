{
 "cells": [
  {
   "cell_type": "code",
   "execution_count": 25,
   "metadata": {
    "collapsed": true,
    "ExecuteTime": {
     "end_time": "2023-06-06T11:23:55.278154Z",
     "start_time": "2023-06-06T11:23:53.978690Z"
    }
   },
   "outputs": [],
   "source": [
    "import pandas as pd\n",
    "csv_path = r\"https://docs.google.com/spreadsheets/d/1EvIFLGpsKvuOgdX6F9MYlGl9rCLjbKHPlE8srBDMwYo/edit?usp=sharing\"\n",
    "\n",
    "# Download file from Google Sheets\n",
    "url = csv_path.replace('/edit?usp=sharing', '/export?format=csv')\n",
    "df = pd.read_csv(url)\n"
   ]
  },
  {
   "cell_type": "markdown",
   "source": [
    "Exp 1. \"미개봉\" 단어가 들어가 있다면, 해당 제품은 미개봉 제품일 것이다."
   ],
   "metadata": {
    "collapsed": false
   }
  },
  {
   "cell_type": "code",
   "execution_count": 26,
   "outputs": [
    {
     "data": {
      "text/plain": "      id        date      writer        model  screen_size   chip   core  \\\n207  211  2023-04-17     tyui363  Macbook Air           13     M1    8,7   \n281  285  2023-04-21  stonebellk  Macbook Pro           16  M1Max  10,24   \n327  331  2023-04-24      낑깡 맛있엉     Mac Mini            0     M1    8,8   \n434  440  2023-05-02  bossmong79  Macbook Pro           14  M1Pro   8,14   \n\n      ram    ssd  apple_care_plus  unused      price price for statistics  \\\n207   8GB  256GB            False   False    850,000              850,000   \n281  64GB    1TB             True   False  3,200,000            3,100,000   \n327  16GB  256GB            False   False    700,000              700,000   \n434  16GB  512GB            False   False  1,000,000            1,000,000   \n\n    platform                                           url  \\\n207     중고나라  https://cafe.naver.com/joonggonara/984752629   \n281     중고나라  https://cafe.naver.com/joonggonara/985530100   \n327     중고나라  https://cafe.naver.com/joonggonara/985993261   \n434     중고나라  https://cafe.naver.com/joonggonara/987609935   \n\n                                                 title  \\\n207         맥북 에어 m1 2020 스페이스 그레이 256g 메모리 8g +가방 팝니다   \n281            맥북프로 M1 MAX 16인치 (64GB / 1TB) 실버를 팝니다﻿.   \n327                               M1 맥미니 CTO 16g 256gb   \n434  2021 맥북 프로 14인치 M1 pro 기본형 판매 (램16 / 512ssd / 스그)   \n\n                                               content  \n207  👆 중고나라에도 앱이 있다는 것을 아시나요? 위에 다운로드 링크를 통해 중고나라 앱...  \n281  1. 제품명/브랜드 : 맥북프로 M1 MAX 16인치 RAM : 64GB / SSD...  \n327  1. 제품명/브랜드: M1 맥미니 CTO 16g 256gb 2. 상품 상태(미개봉/...  \n434  👆 중고나라에도 앱이 있다는 것을 아시나요? 위에 다운로드 링크를 통해 중고나라 앱...  ",
      "text/html": "<div>\n<style scoped>\n    .dataframe tbody tr th:only-of-type {\n        vertical-align: middle;\n    }\n\n    .dataframe tbody tr th {\n        vertical-align: top;\n    }\n\n    .dataframe thead th {\n        text-align: right;\n    }\n</style>\n<table border=\"1\" class=\"dataframe\">\n  <thead>\n    <tr style=\"text-align: right;\">\n      <th></th>\n      <th>id</th>\n      <th>date</th>\n      <th>writer</th>\n      <th>model</th>\n      <th>screen_size</th>\n      <th>chip</th>\n      <th>core</th>\n      <th>ram</th>\n      <th>ssd</th>\n      <th>apple_care_plus</th>\n      <th>unused</th>\n      <th>price</th>\n      <th>price for statistics</th>\n      <th>platform</th>\n      <th>url</th>\n      <th>title</th>\n      <th>content</th>\n    </tr>\n  </thead>\n  <tbody>\n    <tr>\n      <th>207</th>\n      <td>211</td>\n      <td>2023-04-17</td>\n      <td>tyui363</td>\n      <td>Macbook Air</td>\n      <td>13</td>\n      <td>M1</td>\n      <td>8,7</td>\n      <td>8GB</td>\n      <td>256GB</td>\n      <td>False</td>\n      <td>False</td>\n      <td>850,000</td>\n      <td>850,000</td>\n      <td>중고나라</td>\n      <td>https://cafe.naver.com/joonggonara/984752629</td>\n      <td>맥북 에어 m1 2020 스페이스 그레이 256g 메모리 8g +가방 팝니다</td>\n      <td>👆 중고나라에도 앱이 있다는 것을 아시나요? 위에 다운로드 링크를 통해 중고나라 앱...</td>\n    </tr>\n    <tr>\n      <th>281</th>\n      <td>285</td>\n      <td>2023-04-21</td>\n      <td>stonebellk</td>\n      <td>Macbook Pro</td>\n      <td>16</td>\n      <td>M1Max</td>\n      <td>10,24</td>\n      <td>64GB</td>\n      <td>1TB</td>\n      <td>True</td>\n      <td>False</td>\n      <td>3,200,000</td>\n      <td>3,100,000</td>\n      <td>중고나라</td>\n      <td>https://cafe.naver.com/joonggonara/985530100</td>\n      <td>맥북프로 M1 MAX 16인치 (64GB / 1TB) 실버를 팝니다﻿.</td>\n      <td>1. 제품명/브랜드 : 맥북프로 M1 MAX 16인치 RAM : 64GB / SSD...</td>\n    </tr>\n    <tr>\n      <th>327</th>\n      <td>331</td>\n      <td>2023-04-24</td>\n      <td>낑깡 맛있엉</td>\n      <td>Mac Mini</td>\n      <td>0</td>\n      <td>M1</td>\n      <td>8,8</td>\n      <td>16GB</td>\n      <td>256GB</td>\n      <td>False</td>\n      <td>False</td>\n      <td>700,000</td>\n      <td>700,000</td>\n      <td>중고나라</td>\n      <td>https://cafe.naver.com/joonggonara/985993261</td>\n      <td>M1 맥미니 CTO 16g 256gb</td>\n      <td>1. 제품명/브랜드: M1 맥미니 CTO 16g 256gb 2. 상품 상태(미개봉/...</td>\n    </tr>\n    <tr>\n      <th>434</th>\n      <td>440</td>\n      <td>2023-05-02</td>\n      <td>bossmong79</td>\n      <td>Macbook Pro</td>\n      <td>14</td>\n      <td>M1Pro</td>\n      <td>8,14</td>\n      <td>16GB</td>\n      <td>512GB</td>\n      <td>False</td>\n      <td>False</td>\n      <td>1,000,000</td>\n      <td>1,000,000</td>\n      <td>중고나라</td>\n      <td>https://cafe.naver.com/joonggonara/987609935</td>\n      <td>2021 맥북 프로 14인치 M1 pro 기본형 판매 (램16 / 512ssd / 스그)</td>\n      <td>👆 중고나라에도 앱이 있다는 것을 아시나요? 위에 다운로드 링크를 통해 중고나라 앱...</td>\n    </tr>\n  </tbody>\n</table>\n</div>"
     },
     "execution_count": 26,
     "metadata": {},
     "output_type": "execute_result"
    }
   ],
   "source": [
    "false_positive = df[(df['title'].str.contains('미개봉') | df['content'].str.contains('미개봉')) & (df['unused'] == False)]\n",
    "false_positive"
   ],
   "metadata": {
    "collapsed": false,
    "ExecuteTime": {
     "end_time": "2023-06-06T11:23:56.443480Z",
     "start_time": "2023-06-06T11:23:56.440437Z"
    }
   }
  },
  {
   "cell_type": "markdown",
   "source": [
    "  - 4건의 false_positive가 발견되었지만, 이전 자동화 거치기 전 데이터를 포함한다면 더 많은 false_positive가 발견될 것이다."
   ],
   "metadata": {
    "collapsed": false
   }
  },
  {
   "cell_type": "markdown",
   "source": [
    " Exp 1.1 false_positive 제품들은 ChatGPT로부터 구별이 가능할 것이다."
   ],
   "metadata": {
    "collapsed": false
   }
  },
  {
   "cell_type": "code",
   "execution_count": null,
   "outputs": [],
   "source": [
    "from langchain.chat_models import ChatOpenAI\n",
    "from langchain.chains import LLMChain\n",
    "from langchain import PromptTemplate\n",
    "import os\n",
    "\n",
    "unused_prompt = PromptTemplate(\n",
    "    input_variables=[\"title\", \"content\"],\n",
    "    template=open(\"./prompts/model_screen_classify.txt\", \"r\").read()\n",
    ")\n",
    "\n",
    "llm = ChatOpenAI(temperature=0, openai_api_key=os.environ[\"OPENAI_API_KEY\"], model_name=\"gpt-3.5-turbo\")\n",
    "chain_unused_classify: LLMChain = LLMChain(llm=llm, prompt=unused_prompt)"
   ],
   "metadata": {
    "collapsed": false
   }
  }
 ],
 "metadata": {
  "kernelspec": {
   "display_name": "Python 3",
   "language": "python",
   "name": "python3"
  },
  "language_info": {
   "codemirror_mode": {
    "name": "ipython",
    "version": 2
   },
   "file_extension": ".py",
   "mimetype": "text/x-python",
   "name": "python",
   "nbconvert_exporter": "python",
   "pygments_lexer": "ipython2",
   "version": "2.7.6"
  }
 },
 "nbformat": 4,
 "nbformat_minor": 0
}
